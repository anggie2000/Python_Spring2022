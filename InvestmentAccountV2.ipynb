{
 "cells": [
  {
   "cell_type": "code",
   "execution_count": 1,
   "id": "b828b3e3-042b-406a-9838-6f49650a2823",
   "metadata": {},
   "outputs": [],
   "source": [
    "account_value = 0"
   ]
  },
  {
   "cell_type": "code",
   "execution_count": 2,
   "id": "a89ea7d7-dc6f-490e-9475-642e7e9706e4",
   "metadata": {},
   "outputs": [],
   "source": [
    "current_age = 21\n",
    "retirement_age = 65\n",
    "numb_of_calculation = retirement_age - current_age"
   ]
  },
  {
   "cell_type": "code",
   "execution_count": 3,
   "id": "6cdd9bea-6669-49fb-95dd-1620028ffafa",
   "metadata": {},
   "outputs": [],
   "source": [
    "deposit = 19500\n",
    "rate = 7.45"
   ]
  },
  {
   "cell_type": "code",
   "execution_count": 4,
   "id": "5a686711-d03e-489b-9413-630945d92f89",
   "metadata": {},
   "outputs": [
    {
     "name": "stdout",
     "output_type": "stream",
     "text": [
      "22 20952.75\n",
      "23 43466.479875\n",
      "24 67657.4826256875\n",
      "25 93650.71508130121\n",
      "26 121580.44335485816\n",
      "27 151590.9363847951\n",
      "28 183837.21114546232\n",
      "29 218485.83337579927\n",
      "30 255715.77796229633\n",
      "31 295719.35342048743\n",
      "32 338703.1952503137\n",
      "33 384889.3332964621\n",
      "34 434516.33862704854\n",
      "35 487840.55585476366\n",
      "36 545137.4272659436\n",
      "37 606702.9155972564\n",
      "38 672855.032809252\n",
      "39 743935.4827535413\n",
      "40 820311.4262186801\n",
      "41 902377.3774719718\n",
      "42 990557.2420936337\n",
      "43 1085306.5066296095\n",
      "44 1187114.5913735153\n",
      "45 1296507.3784308422\n",
      "46 1414049.92812394\n",
      "47 1540349.3977691736\n",
      "48 1676058.177902977\n",
      "49 1821877.2621567487\n",
      "50 1978559.8681874266\n",
      "51 2146915.3283673897\n",
      "52 2327813.27033076\n",
      "53 2522188.108970402\n",
      "54 2731043.873088697\n",
      "55 2955459.391633805\n",
      "56 3196593.8663105234\n",
      "57 3455692.8593506576\n",
      "58 3734094.7273722817\n",
      "59 4033237.5345615167\n",
      "60 4354666.480886349\n",
      "61 4700041.883712383\n",
      "62 5071147.754048956\n",
      "63 5469901.011725603\n",
      "64 5898361.38709916\n",
      "65 6358742.060438047\n"
     ]
    }
   ],
   "source": [
    "for number in range(current_age, retirement_age):\n",
    "    account_value+=deposit\n",
    "    account_value=account_value*(1+(rate/100.0))\n",
    "    print(number+1,account_value)                              "
   ]
  },
  {
   "cell_type": "code",
   "execution_count": 5,
   "id": "f45e1a1f-bc03-4642-8b96-cb25f81cbb04",
   "metadata": {},
   "outputs": [
    {
     "name": "stdout",
     "output_type": "stream",
     "text": [
      "I will have $6358742.06 at 65 years old\n"
     ]
    }
   ],
   "source": [
    "print(\"I will have $6358742.06 at 65 years old\")"
   ]
  },
  {
   "cell_type": "code",
   "execution_count": null,
   "id": "e83dccdf-af96-42e4-a819-177ca28f3a94",
   "metadata": {},
   "outputs": [],
   "source": []
  }
 ],
 "metadata": {
  "kernelspec": {
   "display_name": "Python 3 (ipykernel)",
   "language": "python",
   "name": "python3"
  },
  "language_info": {
   "codemirror_mode": {
    "name": "ipython",
    "version": 3
   },
   "file_extension": ".py",
   "mimetype": "text/x-python",
   "name": "python",
   "nbconvert_exporter": "python",
   "pygments_lexer": "ipython3",
   "version": "3.9.7"
  }
 },
 "nbformat": 4,
 "nbformat_minor": 5
}
